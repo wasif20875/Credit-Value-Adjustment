{
  "cells": [
    {
      "cell_type": "code",
      "execution_count": 1,
      "metadata": {
        "id": "ir68_4Kp25ji"
      },
      "outputs": [],
      "source": [
        "import numpy as np\n",
        "import pandas as pd\n",
        "import matplotlib.pyplot as plt\n",
        "from scipy.stats import norm\n",
        "from scipy.optimize import newton"
      ]
    },
    {
      "cell_type": "code",
      "execution_count": 2,
      "metadata": {
        "id": "AoZvLDk7_bAW"
      },
      "outputs": [],
      "source": [
        "spreadlist = [0.0009, 0.0012, 0.0022, 0.0034, 0.0049, 0.0073]\n",
        "spreaddate = [0.5, 1, 3, 5, 7, 10]\n",
        "\n",
        "#defining function to initialize parameters\n",
        "def initializecvaparams():\n",
        "  global R, cval, dcval, lambda2vallist, vprotlist, vpremlist, spreadlist, spreaddate, spreaddic, yieldtenor, yieldcurve, pspreadlist, pvprotlist, pvpremlist\n",
        "  R = 0.4\n",
        "  lambda2vallist = []\n",
        "  cval = []\n",
        "  vprotlist = []\n",
        "  vpremlist = []\n",
        "  pspreadlist = []\n",
        "  pvpremlist = []\n",
        "  pvprotlist = []\n",
        "  df = pd.read_excel(\"IRRates.xlsx\", header = None)\n",
        "  yieldtenor = list(df[0])[:np.min(np.where(np.array(list(df[0])) >= spreaddate[-1])) + 1]\n",
        "  yieldcurve = list(df[1])[:np.min(np.where(np.array(list(df[0])) >= spreaddate[-1])) + 1]\n",
        "  spreaddic = dict(zip(spreadlist,spreaddate))\n",
        "  return None\n",
        "\n",
        "#function to create a discounting function\n",
        "def disfac(t1, xx):\n",
        "  global pswitch1\n",
        "  pswitch1 = 0\n",
        "  def pswitch1f():\n",
        "    global pswitch1\n",
        "    pswitch1 = 1\n",
        "    return 1\n",
        "  T = xx\n",
        "  try:\n",
        "    # return np.exp(-1* T * 0.039)\n",
        "    return np.exp(-1 * np.sum(np.array([[(yieldcurve[i - 1] * (([yieldtenor[i] if T >= yieldtenor[i] else T * pswitch1f()][0] - [yieldtenor[i-1] if i!=0 else 0][0]))) if pswitch1 == 0 else 0][0] for i in range(1,len(yieldcurve))])))\n",
        "  except Exception as e:\n",
        "    print(e, xx, yieldtenor, jh)\n",
        "\n",
        "#defining function to calculate survival probability\n",
        "def surv(T,lambda2val, switch):\n",
        "  list2 = lambda2vallist[:]\n",
        "  if switch == +1:\n",
        "    list2.append(lambda2val)\n",
        "  def pnt(i, list2):\n",
        "    return 1\n",
        "  return np.exp(-1 * np.sum(np.array([list2[i] * (([spreaddate[i] * pnt(i, list2) if T >= spreaddate[i] else T * pnt(i, list2)][0] - [spreaddate[i-1] if i!=0 else 0][0])) for i in range(len(list2))])))\n",
        "\n",
        "#defining function to calculate the protection leg of the CDS\n",
        "def Vprot(lambda2val, vprotlist, spreaddic, switch):\n",
        "    vsum = 0\n",
        "    if len(vprotlist) == 0:\n",
        "      vsum = (1 - R) * np.sum(np.array([disfac(0, premtime[i]) * (surv(premtime[i-1], lambda2val, switch) - surv(premtime[i], lambda2val, switch)) for i in range(1, np.min(np.where(premtime >= spreaddate[0])) + 1)]))\n",
        "    else:\n",
        "      vsum = vprotlist[-1] + (1 - R) * np.sum(np.array([disfac(0, premtime[i]) * (surv(premtime[i-1], lambda2val, switch) - surv(premtime[i], lambda2val, switch)) for i in range(np.min(np.where(premtime >= spreaddate[len(vprotlist) - 1])) + 1 , np.min(np.where(premtime >= spreaddate[len(vprotlist)])) + 1)]))\n",
        "    return vsum\n",
        "\n",
        "#defining function to calculate the premium leg of the CDS\n",
        "def Vprem(lambda2val, vpremlist, spreaddic, switch):\n",
        "    psum = 0\n",
        "    if len(vpremlist) == 0:\n",
        "      psum = np.sum(np.array([premiumfrequency * disfac(0, premtime[i]) * (surv(premtime[i], lambda2val, switch)) for i in range(1, np.min(np.where(premtime >= spreaddate[0])) + 1)]))\n",
        "    else:\n",
        "      psum = (1 / spreadlist[len(vpremlist) - 1]) * vpremlist[-1] + np.sum(np.array([premiumfrequency * disfac(0, premtime[i]) * (surv(premtime[i - 1], lambda2val, switch) + surv(premtime[i], lambda2val, switch)) * 0.5 for i in range(np.min(np.where(premtime >= spreaddate[len(vpremlist) - 1])) + 1, np.min(np.where(premtime >= spreaddate[len(vpremlist)])) + 1)]))\n",
        "    return psum\n",
        "\n",
        "#function to calculate lambda value using newton raphson method\n",
        "def lambda2(lambda2val, vpremlist, spreaddic, vprotlist, switch):\n",
        "    return (Vprot(lambda2val, vprotlist, spreaddic, switch)/Vprem(lambda2val, vpremlist, spreaddic, switch)) - spreadlist[len(vprotlist)]\n",
        "\n",
        "#function to boot strap lambda given the lambda value list\n",
        "def bootstraplambda():\n",
        "    global lambda2vallist\n",
        "    for i in list(spreaddic.keys()):\n",
        "      lambda2val = newton(lambda2, 0.01, args = (vpremlist, spreaddic, vprotlist, +1), maxiter = 10000)\n",
        "      lambda2vallist.append(lambda2val)\n",
        "      vpremlist.append(Vprem(lambda2val, vpremlist, spreaddic, -1) * spreadlist[len(vpremlist)])\n",
        "      vprotlist.append(Vprot(lambda2val, vprotlist, spreaddic, -1))\n",
        "    lambda2vallist = lambda2vallist\n",
        "    return lambda2vallist"
      ]
    },
    {
      "cell_type": "code",
      "execution_count": 3,
      "metadata": {
        "id": "pmB9XEpb3Trj"
      },
      "outputs": [],
      "source": [
        "t1 = 5\n",
        "T1 = 2\n",
        "T = 10"
      ]
    },
    {
      "cell_type": "code",
      "execution_count": 4,
      "metadata": {
        "id": "Sg1vXNc658WV"
      },
      "outputs": [],
      "source": [
        "t_array = np.arange(T1, T + 1)\n",
        "initializecvaparams()\n",
        "premiumfrequency = 0.25\n",
        "#creating times when exchanges take place\n",
        "premtime = np.arange(0, spreaddate[-1]+0.25, premiumfrequency)\n",
        "#bootstrapping lambda values\n",
        "k = bootstraplambda()"
      ]
    },
    {
      "cell_type": "code",
      "source": [
        "k"
      ],
      "metadata": {
        "colab": {
          "base_uri": "https://localhost:8080/",
          "height": 0
        },
        "id": "CGlDo0k9DvAy",
        "outputId": "337abfda-a531-4f0c-b8d2-d27eb39035e6"
      },
      "execution_count": 5,
      "outputs": [
        {
          "output_type": "execute_result",
          "data": {
            "text/plain": [
              "[0.0014997188203040247,\n",
              " 0.0025097811905830476,\n",
              " 0.004547080794360528,\n",
              " 0.00894527381564018,\n",
              " 0.015283227078376082,\n",
              " 0.023647094963655926]"
            ]
          },
          "metadata": {},
          "execution_count": 5
        }
      ]
    },
    {
      "cell_type": "code",
      "source": [
        "#finding cumulative hazard rate upto a given time point xx\n",
        "def cumhazardrate(xx):\n",
        "  k1 = np.array([0] + (k))\n",
        "  spreaddate1 = np.array([0] + spreaddate)\n",
        "  return np.sum(np.array([(k[i-1]) * (spreaddate1[i] - spreaddate1[i - 1]) for i in range(1, np.max(np.where(spreaddate1 <= xx)) + 1)])) + (xx - spreaddate1[np.max(np.where(spreaddate1 <= xx))]) * k1[np.max(np.where(spreaddate1 <= xx))]"
      ],
      "metadata": {
        "id": "XBleOBUu52ZK"
      },
      "execution_count": 6,
      "outputs": []
    },
    {
      "cell_type": "code",
      "source": [
        "for i in [0.0, 0.75068493150685, 1.24931506849315, 3.24931506849315, 5.25205479452055, 7.25205479452055, 10.2547945205479]:\n",
        "  print(cumhazardrate(i))"
      ],
      "metadata": {
        "colab": {
          "base_uri": "https://localhost:8080/",
          "height": 0
        },
        "id": "vdt2E8wHg6vo",
        "outputId": "50f33e39-2e0e-4b32-81a4-27160bf943aa"
      },
      "execution_count": 7,
      "outputs": [
        {
          "output_type": "stream",
          "name": "stdout",
          "text": [
            "0.0\n",
            "0.0011258163198994606\n",
            "0.002630476274876568\n",
            "0.012232567353854473\n",
            "0.031244158378976195\n",
            "0.0634081240430481\n",
            "0.13652234849678027\n"
          ]
        }
      ]
    },
    {
      "cell_type": "code",
      "source": [
        "#survival probability function to create spreads\n",
        "def psurv(T, lambda2vallist, switch):\n",
        "  list2 = lambda2vallist[:]\n",
        "  global pswitch\n",
        "  pswitch = 0\n",
        "  def pntswitch(i, list2):\n",
        "    global pswitch\n",
        "    pswitch = 1\n",
        "    return 1\n",
        "  return np.exp(-1 * np.sum(np.array([[list2[i] * (([spreaddate[i] if T >= spreaddate[i] else T * pntswitch(i, list2)][0] - [spreaddate[i-1] if i!=0 else 0][0])) if pswitch == 0 else 0][0] for i in range(len(list2))])))\n",
        "\n",
        "# def tsurv(T, i, z, switch):\n",
        "#   global qswitch\n",
        "#   qswitch = 0\n",
        "#   def qntswitch():\n",
        "#     global qswitch\n",
        "#     qswitch = 1\n",
        "#     return 1\n",
        "#   return [(T - spreaddate[i]) if T >= spreaddate[z - 1] and T <= spreaddate[i] else 0][0]\n",
        "\n",
        "#protection leg of the CDS used to create spreads\n",
        "def pvprot(z, pvprotlist, spreaddic, switch):\n",
        "  def pnt(i, pvprotlist):\n",
        "    return 1\n",
        "  if z==0:\n",
        "    vsum = (1 - R) * np.sum(np.array([disfac(0, premtime[i]) * (psurv(premtime[i-1], lambda2vallist, switch) - psurv(premtime[i], lambda2vallist, switch)) for i in range(1, np.max(np.where(premtime <= spreaddate[0])) + 1)]))\n",
        "  else:\n",
        "    vsum = pvprotlist[-1] + (1 - R) * np.sum(np.array([disfac(0, premtime[i]) * (psurv(premtime[i-1], lambda2vallist, switch) - psurv(premtime[i], lambda2vallist, switch)) * pnt(i, pvprotlist) for i in range(np.max(np.where(premtime <= spreaddate[len(pvprotlist) - 1])) + 1 , np.min(np.where(premtime >= spreaddate[len(pvprotlist)])) + 1)]))\n",
        "  return vsum\n",
        "\n",
        "#premium leg of the CDS used to create spreads\n",
        "def pvprem(z, pvpremlist, spreaddic, switch):\n",
        "  if z==0:\n",
        "    psum = np.sum(np.array([premiumfrequency * disfac(0, premtime[i]) * ((psurv(premtime[i - 1], lambda2vallist, switch)) + (psurv(premtime[i], lambda2vallist, switch))) * 0.5 for i in range(1, np.max(np.where(premtime <= spreaddate[0])) + 1)]))\n",
        "  else:\n",
        "    psum = (1 / pspreadlist[len(pvpremlist) - 1]) * pvpremlist[-1] + np.sum(np.array([premiumfrequency * disfac(0, premtime[i]) * ((psurv(premtime[i-1], lambda2vallist, switch)) + (psurv(premtime[i], lambda2vallist, switch))) * 0.5 for i in range(np.max(np.where(premtime <= spreaddate[len(pvpremlist) - 1])) + 1, np.min(np.where(premtime >= spreaddate[len(pvpremlist)])) + 1)]))\n",
        "  return psum\n",
        "\n",
        "#function to create spreads from hazard rates given\n",
        "def createspreads(l2vl):\n",
        "  global pspreadlist\n",
        "  for z in range(len(l2vl)):\n",
        "    switch = +1\n",
        "    psprot = pvprot(z, pvprotlist, spreaddic, switch)\n",
        "    psprem = pvprem(z, pvpremlist, spreaddic, switch)\n",
        "    ps = psprot / psprem\n",
        "    pspreadlist.append(ps)\n",
        "    pvprotlist.append(psprot)\n",
        "    pvpremlist.append(psprem * pspreadlist[-1])\n",
        "  pspreadlist = pspreadlist\n",
        "  return pspreadlist"
      ],
      "metadata": {
        "id": "YGC1qxrsTuYs"
      },
      "execution_count": 8,
      "outputs": []
    },
    {
      "cell_type": "markdown",
      "source": [
        "# Formulaic Spread to lambda sensitivity\n",
        "\n"
      ],
      "metadata": {
        "id": "dfoWIqnMD5La"
      }
    },
    {
      "cell_type": "code",
      "source": [
        "premtime"
      ],
      "metadata": {
        "colab": {
          "base_uri": "https://localhost:8080/",
          "height": 0
        },
        "id": "BtY9Ope0oHFP",
        "outputId": "19aa8971-4853-413a-eab0-f149b11a45d9"
      },
      "execution_count": 9,
      "outputs": [
        {
          "output_type": "execute_result",
          "data": {
            "text/plain": [
              "array([ 0.  ,  0.25,  0.5 ,  0.75,  1.  ,  1.25,  1.5 ,  1.75,  2.  ,\n",
              "        2.25,  2.5 ,  2.75,  3.  ,  3.25,  3.5 ,  3.75,  4.  ,  4.25,\n",
              "        4.5 ,  4.75,  5.  ,  5.25,  5.5 ,  5.75,  6.  ,  6.25,  6.5 ,\n",
              "        6.75,  7.  ,  7.25,  7.5 ,  7.75,  8.  ,  8.25,  8.5 ,  8.75,\n",
              "        9.  ,  9.25,  9.5 ,  9.75, 10.  ])"
            ]
          },
          "metadata": {},
          "execution_count": 9
        }
      ]
    },
    {
      "cell_type": "code",
      "source": [
        "#analytical method to find the sensitivity of spread wrt lambda\n",
        "def dspreadlambda(l2vl1):\n",
        "  nspreaddate = [0] + spreaddate\n",
        "  global dspreadl\n",
        "  dspreadl = np.zeros((len(spreadlist), len(l2vl1)))\n",
        "  switch = 1\n",
        "  for k in range(len(spreadlist)):\n",
        "    for j in range(len(l2vl1)):\n",
        "      udash = (1 - R) * np.sum(np.array([disfac(0, premtime[i]) * (psurv(premtime[i-1], l2vl1, switch) * ([(-1 * ((premtime[i - 1]) - nspreaddate[j])) if (premtime[i - 1]) > nspreaddate[j] and (premtime[i - 1]) <= nspreaddate[j + 1] else ((-1 * (nspreaddate[j + 1] - nspreaddate[j])) if (premtime[i - 1]) > nspreaddate[j + 1] else 0)][0]) - psurv(premtime[i], l2vl1, switch) * ([(-1 * ((premtime[i]) - nspreaddate[j])) if (premtime[i]) > nspreaddate[j] and (premtime[i]) <= nspreaddate[j + 1] else ((-1 * (nspreaddate[j + 1] - nspreaddate[j])) if (premtime[i]) > nspreaddate[j + 1] else 0)][0])) for i in range(1, np.max(np.where(premtime <= nspreaddate[k+1])) + 1)]))\n",
        "      vdash = np.sum(np.array([premiumfrequency * disfac(0, premtime[i]) * ((psurv(premtime[i - 1], l2vl1, switch)) * ([(-1 * ((premtime[i - 1]) - nspreaddate[j])) if (premtime[i - 1]) > nspreaddate[j] and (premtime[i - 1]) <= nspreaddate[j + 1] else ((-1 * (nspreaddate[j + 1] - nspreaddate[j])) if (premtime[i - 1]) > nspreaddate[j + 1] else 0)][0])+ (psurv(premtime[i], l2vl1, switch)) * ([(-1 * ((premtime[i]) - nspreaddate[j])) if (premtime[i]) > nspreaddate[j] and (premtime[i]) <= nspreaddate[j + 1] else ((-1 * (nspreaddate[j + 1] - nspreaddate[j])) if (premtime[i]) > nspreaddate[j + 1] else 0)][0])) * 0.5 for i in range(1, np.max(np.where(premtime <= nspreaddate[k+1])) + 1)]))\n",
        "      u = (1 - R) * np.sum(np.array([disfac(0, premtime[i]) * (psurv(premtime[i-1], l2vl1, switch) - psurv(premtime[i], l2vl1, switch)) for i in range(1, np.max(np.where(premtime <= nspreaddate[k+1])) + 1)]))\n",
        "      v = np.sum(np.array([premiumfrequency * disfac(0, premtime[i]) * ((psurv(premtime[i - 1], l2vl1, switch)) + (psurv(premtime[i], l2vl1, switch))) * 0.5 for i in range(1, np.max(np.where(premtime <= nspreaddate[k+1])) + 1)]))\n",
        "      # print(udash, vdash, u, v)\n",
        "      dspreadl[k,j] = ((udash*v - vdash*u)/(v**2))\n",
        "  dspreadl = np.transpose(dspreadl)\n",
        "  return None\n",
        "dspreadlambda(lambda2vallist)"
      ],
      "metadata": {
        "id": "hZ9MGrR4D-rp"
      },
      "execution_count": 10,
      "outputs": []
    },
    {
      "cell_type": "code",
      "source": [
        "dspreadl"
      ],
      "metadata": {
        "colab": {
          "base_uri": "https://localhost:8080/",
          "height": 0
        },
        "id": "Pe_XGHGwqYDO",
        "outputId": "8e28b6a4-4788-4152-8874-0120584c640e"
      },
      "execution_count": 11,
      "outputs": [
        {
          "output_type": "execute_result",
          "data": {
            "text/plain": [
              "array([[0.59999998, 0.30289605, 0.10466058, 0.06497413, 0.04805298,\n",
              "        0.03560083],\n",
              "       [0.        , 0.29702816, 0.10254577, 0.06359617, 0.04697366,\n",
              "        0.0347297 ],\n",
              "       [0.        , 0.        , 0.39225172, 0.24262661, 0.17861921,\n",
              "        0.13135886],\n",
              "       [0.        , 0.        , 0.        , 0.2265914 , 0.16588113,\n",
              "        0.1208781 ],\n",
              "       [0.        , 0.        , 0.        , 0.        , 0.15488325,\n",
              "        0.11175985],\n",
              "       [0.        , 0.        , 0.        , 0.        , 0.        ,\n",
              "        0.15242736]])"
            ]
          },
          "metadata": {},
          "execution_count": 11
        }
      ]
    },
    {
      "cell_type": "markdown",
      "source": [
        "# Go"
      ],
      "metadata": {
        "id": "KUsNLanOr7_E"
      }
    },
    {
      "cell_type": "code",
      "source": [
        "#comparing actual sprads and spreads created out of hazard rates\n",
        "print(spreadlist)\n",
        "createspreads(lambda2vallist)\n",
        "pspreadlist"
      ],
      "metadata": {
        "colab": {
          "base_uri": "https://localhost:8080/",
          "height": 0
        },
        "id": "PLnspqRlT4Zp",
        "outputId": "0210b86b-9b03-42ed-bfd2-94a65395894d"
      },
      "execution_count": 12,
      "outputs": [
        {
          "output_type": "stream",
          "name": "stdout",
          "text": [
            "[0.0009, 0.0012, 0.0022, 0.0034, 0.0049, 0.0073]\n"
          ]
        },
        {
          "output_type": "execute_result",
          "data": {
            "text/plain": [
              "[0.0008998312816414876,\n",
              " 0.0011998864210369475,\n",
              " 0.0021999280202452108,\n",
              " 0.003399930905761411,\n",
              " 0.004899926309521903,\n",
              " 0.007299918583151281]"
            ]
          },
          "metadata": {},
          "execution_count": 12
        }
      ]
    },
    {
      "cell_type": "code",
      "source": [
        "#getting epe values from excel\n",
        "df2 = pd.read_excel(\"EPE.xlsx\",header = None)\n",
        "deltadays = []\n",
        "deltayears = []\n",
        "epelist = np.array(df2.iloc[1,1:])\n",
        "for i in np.array(df2.iloc[0,1:]):\n",
        "  deltadays.append(i - df2.iloc[3,1])\n",
        "for i in deltadays:\n",
        "  deltayears.append(i/365)"
      ],
      "metadata": {
        "id": "C3BoOISjD8u_"
      },
      "execution_count": 13,
      "outputs": []
    },
    {
      "cell_type": "markdown",
      "source": [
        "# CVA"
      ],
      "metadata": {
        "id": "cCcDFIdqIWtG"
      }
    },
    {
      "cell_type": "code",
      "source": [
        "#calculating CVA using hazard rates and the EPE values taken\n",
        "def cva(t):\n",
        "  def pnt6(i):\n",
        "    # print(i, (psurv(deltayears[i - 1], lambda2vallist, +1) - psurv(deltayears[i], lambda2vallist, +1))/(psurv(deltayears[i - 1], lambda2vallist, +1)) * 1)\n",
        "    return 1\n",
        "  global cval\n",
        "  cval = []\n",
        "  cval.append((1 - R) * np.sum(np.array([((psurv((deltayears[i - 1] if i!=0 else 0), lambda2vallist, +1) - psurv(deltayears[i], lambda2vallist, +1))/1) * pnt6(i) * epelist[i] for i in range(0,len(deltayears))])))\n",
        "  return None\n",
        "cva(0)"
      ],
      "metadata": {
        "id": "fPfxGPD8IeMh"
      },
      "execution_count": 14,
      "outputs": []
    },
    {
      "cell_type": "code",
      "source": [
        "print(deltayears[0])\n",
        "lambda2vallist"
      ],
      "metadata": {
        "colab": {
          "base_uri": "https://localhost:8080/",
          "height": 0
        },
        "id": "tqX5hn7vdrPp",
        "outputId": "ae04ff37-df86-4f42-cb1a-8560e31a1d3a"
      },
      "execution_count": 15,
      "outputs": [
        {
          "output_type": "stream",
          "name": "stdout",
          "text": [
            "0.0027397260273972603\n"
          ]
        },
        {
          "output_type": "execute_result",
          "data": {
            "text/plain": [
              "[0.0014997188203040247,\n",
              " 0.0025097811905830476,\n",
              " 0.004547080794360528,\n",
              " 0.00894527381564018,\n",
              " 0.015283227078376082,\n",
              " 0.023647094963655926]"
            ]
          },
          "metadata": {},
          "execution_count": 15
        }
      ]
    },
    {
      "cell_type": "markdown",
      "source": [
        "# Formulaic sensitivity"
      ],
      "metadata": {
        "id": "Cks-FScCDx0P"
      }
    },
    {
      "cell_type": "code",
      "source": [
        "#analytical method to find the sensitivity of cva wrt lambda\n",
        "def dcva(t):\n",
        "  global dcval\n",
        "  dcval = []\n",
        "  nspreaddate = [0] + spreaddate\n",
        "  for z in range(len(lambda2vallist)):\n",
        "    dcval.append((1 - R) * np.sum(np.array([(psurv((deltayears[i - 1] if i!=0 else 0), lambda2vallist, +1) * ([(-1 * ((deltayears[i - 1] if i!=0 else 0) - nspreaddate[z])) if (deltayears[i - 1] if i!=0 else 0) > nspreaddate[z] and (deltayears[i - 1] if i!=0 else 0) <= nspreaddate[z + 1] else ((-1 * (nspreaddate[z + 1] - nspreaddate[z])) if (deltayears[i - 1] if i!=0 else 0) > nspreaddate[z + 1] else 0)][0]) - psurv(deltayears[i], lambda2vallist, +1) * ([(-1 * (deltayears[i] - nspreaddate[z])) if deltayears[i] > nspreaddate[z]  and (deltayears[i]) <= nspreaddate[z + 1] else ((-1 * (nspreaddate[z + 1] - nspreaddate[z])) if deltayears[i] > nspreaddate[z + 1] else 0)][0])) * epelist[i] for i in range(1,len(deltayears))])))\n",
        "  return None\n",
        "dcva(0)"
      ],
      "metadata": {
        "id": "v0nJKXbWeamU"
      },
      "execution_count": 16,
      "outputs": []
    },
    {
      "cell_type": "code",
      "source": [
        "dcval"
      ],
      "metadata": {
        "id": "jt74yw6pX21N",
        "outputId": "55751df3-2faa-4ebe-dcca-44c3646e5a65",
        "colab": {
          "base_uri": "https://localhost:8080/",
          "height": 0
        }
      },
      "execution_count": 17,
      "outputs": [
        {
          "output_type": "execute_result",
          "data": {
            "text/plain": [
              "[44655397.46156734,\n",
              " 34436790.94482995,\n",
              " 91102785.5400323,\n",
              " 53768291.34866512,\n",
              " 39393052.6558943,\n",
              " 8437952.704509526]"
            ]
          },
          "metadata": {},
          "execution_count": 17
        }
      ]
    },
    {
      "cell_type": "markdown",
      "source": [
        "# CVA Sensitivity"
      ],
      "metadata": {
        "id": "sdgnqKBYT02-"
      }
    },
    {
      "cell_type": "markdown",
      "source": [
        "# Jacobian of spread to hazard rate"
      ],
      "metadata": {
        "id": "uspxzneEcgdl"
      }
    },
    {
      "cell_type": "code",
      "source": [
        "#function to bump a list given at the given index\n",
        "def bump(blist, j, k):\n",
        "  blist[j] += k\n",
        "  return None\n",
        "\n",
        "#function to remember the old lists before bumping\n",
        "def remember():\n",
        "  global ocval, oR, olambda2vallist, ovprotlist, ovpremlist, ospreadlist, ospreaddate, ospreaddic, oyieldtenor, oyieldcurve, opspreadlist, opvprotlist, pvpremlist\n",
        "  ocval = cval[:]\n",
        "  oR = R\n",
        "  olambda2vallist = lambda2vallist[:]\n",
        "  ovprotlist = vprotlist[:]\n",
        "  ovpremlist = vpremlist[:]\n",
        "  ospreadlist = spreadlist[:]\n",
        "  ospreaddate = spreaddate[:]\n",
        "  ospreaddic = spreaddic\n",
        "  oyieldtenor = yieldtenor[:]\n",
        "  oyieldcurve = yieldcurve[:]\n",
        "  opspreadlist = yieldcurve[:]\n",
        "  opvprotlist = pvprotlist[:]\n",
        "  opvpremlist = pvpremlist[:]\n",
        "  return None\n",
        "\n",
        "#sensitivity vector calculation\n",
        "def sensicvalambda(x):\n",
        "  global cval, lambda2vallist\n",
        "  m = len(cval)\n",
        "  n = len(lambda2vallist)\n",
        "  jmat = np.zeros((n, m))\n",
        "  for i in range(0, n):\n",
        "    for j in range(0,m):\n",
        "      if i == 0 and j == 0:\n",
        "        remember()\n",
        "      bump(lambda2vallist, i, x)\n",
        "      cva(0)\n",
        "      jmat[i, j] = (cval[j] - ocval[j]) / (lambda2vallist[i] - olambda2vallist[i])\n",
        "      print(lambda2vallist)\n",
        "      print(olambda2vallist)\n",
        "      lambda2vallist = olambda2vallist[:]\n",
        "      cval = ocval[:]\n",
        "  return jmat\n",
        "\n",
        "#calculating the sensitivity of cva with respect to bump in different indices of spread list\n",
        "def sensicvaspread(x):\n",
        "  global cval, spreadlist\n",
        "  m = len(cval)\n",
        "  n = len(spreadlist)\n",
        "  jmat = np.zeros((n, m))\n",
        "  for i in range(0, n):\n",
        "    for j in range(0,m):\n",
        "      if i == 0 and j == 0:\n",
        "        remember()\n",
        "      bump(spreadlist, i, x)\n",
        "      initializecvaparams()\n",
        "      bootstraplambda()\n",
        "      cva(0)\n",
        "      jmat[i, j] = (cval[j] - ocval[j]) / (spreadlist[i] - ospreadlist[i])\n",
        "      print(spreadlist)\n",
        "      print(ospreadlist)\n",
        "      spreadlist = ospreadlist[:]\n",
        "      cval = ocval[:]\n",
        "  return jmat\n",
        "\n",
        "#calculating the sensitivity of cva with respect to bump in different indices of lambda list\n",
        "def sensilambdaspread(x):\n",
        "  global lambda2vallist, spreadlist\n",
        "  m = len(lambda2vallist)\n",
        "  n = len(spreadlist)\n",
        "  jmat = np.zeros((n, m))\n",
        "  for i in range(0, n):\n",
        "    if i!= 0:\n",
        "      bump(spreadlist, i, x)\n",
        "      initializecvaparams()\n",
        "      bootstraplambda()\n",
        "    for j in range(0,m):\n",
        "      if i == 0 and j == 0:\n",
        "        remember()\n",
        "        bump(spreadlist, i, x)\n",
        "        initializecvaparams()\n",
        "        bootstraplambda()\n",
        "      jmat[i, j] = (lambda2vallist[j] - olambda2vallist[j]) / (spreadlist[i] - ospreadlist[i])\n",
        "      print(i, j, lambda2vallist[j] - olambda2vallist[j])\n",
        "      print(lambda2vallist)\n",
        "      print(olambda2vallist)\n",
        "      print(spreadlist)\n",
        "      print(ospreadlist)\n",
        "    spreadlist = ospreadlist[:]\n",
        "    cval = ocval[:]\n",
        "  return jmat\n",
        "\n",
        "#calculating the sensitivity of each spread with respect to bump in different indices of lambda list\n",
        "def sensispreadlambda(x):\n",
        "  global lambda2vallist, spreadlist, pspreadlist\n",
        "  n = len(lambda2vallist)\n",
        "  m = len(spreadlist)\n",
        "  jmat = np.zeros((n, m))\n",
        "  for i in range(0, n):\n",
        "    if i != 0:\n",
        "      bump(lambda2vallist, i, x)\n",
        "      clambda2vallist = lambda2vallist[:]\n",
        "      initializecvaparams()\n",
        "      lambda2vallist = clambda2vallist[:]\n",
        "      createspreads(lambda2vallist)\n",
        "    for j in range(0,m):\n",
        "      if i == 0 and j == 0:\n",
        "        remember()\n",
        "        bump(lambda2vallist, i, x)\n",
        "        clambda2vallist = lambda2vallist[:]\n",
        "        initializecvaparams()\n",
        "        lambda2vallist = clambda2vallist[:]\n",
        "        createspreads(lambda2vallist)\n",
        "      jmat[i, j] = (pspreadlist[j] - ospreadlist[j]) / (lambda2vallist[i] - olambda2vallist[i])\n",
        "      print(i, j, pspreadlist[j] - opspreadlist[j])\n",
        "      print(lambda2vallist)\n",
        "      print(olambda2vallist)\n",
        "      print(pspreadlist)\n",
        "      print(ospreadlist)\n",
        "    lambda2vallist = olambda2vallist[:]\n",
        "  return jmat"
      ],
      "metadata": {
        "id": "GCQlgNp8jDAx"
      },
      "execution_count": 18,
      "outputs": []
    },
    {
      "cell_type": "code",
      "source": [
        "cval"
      ],
      "metadata": {
        "colab": {
          "base_uri": "https://localhost:8080/",
          "height": 0
        },
        "id": "8GpzlAgvYlLk",
        "outputId": "9dde2902-c57d-4612-d40f-a794ea53fe4b"
      },
      "execution_count": 19,
      "outputs": [
        {
          "output_type": "execute_result",
          "data": {
            "text/plain": [
              "[1905620.2328818648]"
            ]
          },
          "metadata": {},
          "execution_count": 19
        }
      ]
    },
    {
      "cell_type": "markdown",
      "source": [
        "# Parallel lambda bump"
      ],
      "metadata": {
        "id": "_SV_lU6qVchN"
      }
    },
    {
      "cell_type": "code",
      "source": [
        "lambda2vallist"
      ],
      "metadata": {
        "colab": {
          "base_uri": "https://localhost:8080/",
          "height": 0
        },
        "id": "2JkEi-JvVg8i",
        "outputId": "8332d33e-8706-4e11-8590-154333713d29"
      },
      "execution_count": 20,
      "outputs": [
        {
          "output_type": "execute_result",
          "data": {
            "text/plain": [
              "[0.0014997188203040247,\n",
              " 0.0025097811905830476,\n",
              " 0.004547080794360528,\n",
              " 0.00894527381564018,\n",
              " 0.015283227078376082,\n",
              " 0.023647094963655926]"
            ]
          },
          "metadata": {},
          "execution_count": 20
        }
      ]
    },
    {
      "cell_type": "code",
      "source": [
        "#bumping all the lambda values by equal amount\n",
        "remember()\n",
        "for i in range(len(lambda2vallist)):\n",
        "  lambda2vallist[i] = lambda2vallist[i] + 0.00001\n",
        "lambda2vallist"
      ],
      "metadata": {
        "colab": {
          "base_uri": "https://localhost:8080/",
          "height": 0
        },
        "id": "98fNCIhPVl95",
        "outputId": "aac3954d-f7a1-4950-daca-baa28819c929"
      },
      "execution_count": 21,
      "outputs": [
        {
          "output_type": "execute_result",
          "data": {
            "text/plain": [
              "[0.0015097188203040247,\n",
              " 0.0025197811905830476,\n",
              " 0.004557080794360528,\n",
              " 0.00895527381564018,\n",
              " 0.015293227078376081,\n",
              " 0.023657094963655926]"
            ]
          },
          "metadata": {},
          "execution_count": 21
        }
      ]
    },
    {
      "cell_type": "code",
      "source": [
        "cva(0)"
      ],
      "metadata": {
        "id": "AdaI1XZBVzd3"
      },
      "execution_count": 22,
      "outputs": []
    },
    {
      "cell_type": "code",
      "source": [
        "ocval"
      ],
      "metadata": {
        "colab": {
          "base_uri": "https://localhost:8080/",
          "height": 0
        },
        "id": "l1QfFrpGWlsK",
        "outputId": "e389f62c-d1ef-4078-b9bf-457ddf586fcc"
      },
      "execution_count": 23,
      "outputs": [
        {
          "output_type": "execute_result",
          "data": {
            "text/plain": [
              "[1905620.2328818648]"
            ]
          },
          "metadata": {},
          "execution_count": 23
        }
      ]
    },
    {
      "cell_type": "code",
      "source": [
        "cval"
      ],
      "metadata": {
        "colab": {
          "base_uri": "https://localhost:8080/",
          "height": 0
        },
        "id": "u-GXnZCLWkXj",
        "outputId": "b81bc6b7-92d5-4c43-e8f7-45e7d5c3ee02"
      },
      "execution_count": 24,
      "outputs": [
        {
          "output_type": "execute_result",
          "data": {
            "text/plain": [
              "[1908340.922312976]"
            ]
          },
          "metadata": {},
          "execution_count": 24
        }
      ]
    },
    {
      "cell_type": "code",
      "source": [
        "#finding the sensitivity of cva to lambda using finite difference method\n",
        "(cval[0] - ocval[0])/0.00001"
      ],
      "metadata": {
        "colab": {
          "base_uri": "https://localhost:8080/",
          "height": 0
        },
        "id": "ilh-Bd3rWo-h",
        "outputId": "fc5d539d-9657-4ea2-ea69-9037051fa73b"
      },
      "execution_count": 25,
      "outputs": [
        {
          "output_type": "execute_result",
          "data": {
            "text/plain": [
              "272068943.1111328"
            ]
          },
          "metadata": {},
          "execution_count": 25
        }
      ]
    },
    {
      "cell_type": "code",
      "source": [
        "#finding the sensitivity of cva to lambda using analytical method\n",
        "(-1 * (1 - R) * np.sum(np.array([((psurv((deltayears[i - 1] if i!=0 else 0), lambda2vallist, +1) * deltayears[i - 1] - psurv(deltayears[i], lambda2vallist, +1) * deltayears[i])/1)  * epelist[i] for i in range(1,len(deltayears))])))"
      ],
      "metadata": {
        "colab": {
          "base_uri": "https://localhost:8080/",
          "height": 0
        },
        "id": "yQlxDwC3XHbu",
        "outputId": "23d38485-5709-4329-9a85-afa5b8574312"
      },
      "execution_count": 27,
      "outputs": [
        {
          "output_type": "execute_result",
          "data": {
            "text/plain": [
              "271779894.5807181"
            ]
          },
          "metadata": {},
          "execution_count": 27
        }
      ]
    },
    {
      "cell_type": "markdown",
      "source": [
        "# Bucketed lambda bump"
      ],
      "metadata": {
        "id": "CIfTLeHGZHaa"
      }
    },
    {
      "cell_type": "code",
      "source": [
        "lambda2vallist\n",
        "# [0.002498937989994155,\n",
        "#  0.002509779602442351,\n",
        "#  0.004572461102483108,\n",
        "#  0.009138478476834414,\n",
        "#  0.015563088872434155,\n",
        "#  0.02379101780247523]"
      ],
      "metadata": {
        "colab": {
          "base_uri": "https://localhost:8080/"
        },
        "id": "HKc9BY-rDDeZ",
        "outputId": "306fe901-7b56-426a-cdbc-004624b15e81"
      },
      "execution_count": null,
      "outputs": [
        {
          "output_type": "execute_result",
          "data": {
            "text/plain": [
              "[0.0014997188203040247,\n",
              " 0.0025097811905830476,\n",
              " 0.004547080794360528,\n",
              " 0.00894527381564018,\n",
              " 0.015283227078376082,\n",
              " 0.023647094963655926]"
            ]
          },
          "metadata": {},
          "execution_count": 64
        }
      ]
    },
    {
      "cell_type": "code",
      "source": [
        "#calculating sensitivity of cva wrt lambda for a bump of 0.01\n",
        "cvalambda0 = sensicvalambda(0.01)"
      ],
      "metadata": {
        "id": "5vZFMyZecDPg"
      },
      "execution_count": null,
      "outputs": []
    },
    {
      "cell_type": "code",
      "source": [
        "#calculating sensitivity of cva wrt spread for a bump of 0.01\n",
        "cvaspread0 = sensicvaspread(0.01)"
      ],
      "metadata": {
        "colab": {
          "base_uri": "https://localhost:8080/"
        },
        "id": "OScq-59HfX42",
        "outputId": "b0bd47bd-caf2-4ee1-cacf-c96a76d3d01c"
      },
      "execution_count": null,
      "outputs": [
        {
          "output_type": "stream",
          "name": "stdout",
          "text": [
            "[0.0109, 0.0012, 0.0022, 0.0034, 0.0049, 0.0073]\n",
            "[0.0009, 0.0012, 0.0022, 0.0034, 0.0049, 0.0073]\n",
            "[0.0009, 0.0112, 0.0022, 0.0034, 0.0049, 0.0073]\n",
            "[0.0009, 0.0012, 0.0022, 0.0034, 0.0049, 0.0073]\n",
            "[0.0009, 0.0012, 0.0122, 0.0034, 0.0049, 0.0073]\n",
            "[0.0009, 0.0012, 0.0022, 0.0034, 0.0049, 0.0073]\n",
            "[0.0009, 0.0012, 0.0022, 0.0134, 0.0049, 0.0073]\n",
            "[0.0009, 0.0012, 0.0022, 0.0034, 0.0049, 0.0073]\n",
            "[0.0009, 0.0012, 0.0022, 0.0034, 0.0149, 0.0073]\n",
            "[0.0009, 0.0012, 0.0022, 0.0034, 0.0049, 0.0073]\n",
            "[0.0009, 0.0012, 0.0022, 0.0034, 0.0049, 0.0173]\n",
            "[0.0009, 0.0012, 0.0022, 0.0034, 0.0049, 0.0073]\n"
          ]
        }
      ]
    },
    {
      "cell_type": "code",
      "source": [
        "#calculating sensitivity of each spread wrt lambda for a bump of 0.01\n",
        "spreadlambda0 = sensispreadlambda(0.01)"
      ],
      "metadata": {
        "colab": {
          "base_uri": "https://localhost:8080/"
        },
        "id": "zDXrs3-AcU8B",
        "outputId": "c027f30a-344c-46b2-e7f4-64253b561853"
      },
      "execution_count": null,
      "outputs": [
        {
          "output_type": "stream",
          "name": "stdout",
          "text": [
            "0 0 -0.032720773460199436\n",
            "[0.011499718820304025, 0.0025097811905830476, 0.004547080794360528, 0.00894527381564018, 0.015283227078376082, 0.023647094963655926]\n",
            "[0.0014997188203040247, 0.0025097811905830476, 0.004547080794360528, 0.00894527381564018, 0.015283227078376082, 0.023647094963655926]\n",
            "[0.0068998265398005606, 0.004232606073803076, 0.003248701977177604, 0.004051126529418685, 0.005381565964887117, 0.007656767903852073]\n",
            "[0.0009, 0.0012, 0.0022, 0.0034, 0.0049, 0.0073]\n",
            "0 1 -0.035352593926196926\n",
            "[0.011499718820304025, 0.0025097811905830476, 0.004547080794360528, 0.00894527381564018, 0.015283227078376082, 0.023647094963655926]\n",
            "[0.0014997188203040247, 0.0025097811905830476, 0.004547080794360528, 0.00894527381564018, 0.015283227078376082, 0.023647094963655926]\n",
            "[0.0068998265398005606, 0.004232606073803076, 0.003248701977177604, 0.004051126529418685, 0.005381565964887117, 0.007656767903852073]\n",
            "[0.0009, 0.0012, 0.0022, 0.0034, 0.0049, 0.0073]\n",
            "0 2 -0.036325298022822396\n",
            "[0.011499718820304025, 0.0025097811905830476, 0.004547080794360528, 0.00894527381564018, 0.015283227078376082, 0.023647094963655926]\n",
            "[0.0014997188203040247, 0.0025097811905830476, 0.004547080794360528, 0.00894527381564018, 0.015283227078376082, 0.023647094963655926]\n",
            "[0.0068998265398005606, 0.004232606073803076, 0.003248701977177604, 0.004051126529418685, 0.005381565964887117, 0.007656767903852073]\n",
            "[0.0009, 0.0012, 0.0022, 0.0034, 0.0049, 0.0073]\n",
            "0 3 -0.035512273470581314\n",
            "[0.011499718820304025, 0.0025097811905830476, 0.004547080794360528, 0.00894527381564018, 0.015283227078376082, 0.023647094963655926]\n",
            "[0.0014997188203040247, 0.0025097811905830476, 0.004547080794360528, 0.00894527381564018, 0.015283227078376082, 0.023647094963655926]\n",
            "[0.0068998265398005606, 0.004232606073803076, 0.003248701977177604, 0.004051126529418685, 0.005381565964887117, 0.007656767903852073]\n",
            "[0.0009, 0.0012, 0.0022, 0.0034, 0.0049, 0.0073]\n",
            "0 4 -0.03417183403511288\n",
            "[0.011499718820304025, 0.0025097811905830476, 0.004547080794360528, 0.00894527381564018, 0.015283227078376082, 0.023647094963655926]\n",
            "[0.0014997188203040247, 0.0025097811905830476, 0.004547080794360528, 0.00894527381564018, 0.015283227078376082, 0.023647094963655926]\n",
            "[0.0068998265398005606, 0.004232606073803076, 0.003248701977177604, 0.004051126529418685, 0.005381565964887117, 0.007656767903852073]\n",
            "[0.0009, 0.0012, 0.0022, 0.0034, 0.0049, 0.0073]\n",
            "0 5 -0.031887032096147926\n",
            "[0.011499718820304025, 0.0025097811905830476, 0.004547080794360528, 0.00894527381564018, 0.015283227078376082, 0.023647094963655926]\n",
            "[0.0014997188203040247, 0.0025097811905830476, 0.004547080794360528, 0.00894527381564018, 0.015283227078376082, 0.023647094963655926]\n",
            "[0.0068998265398005606, 0.004232606073803076, 0.003248701977177604, 0.004051126529418685, 0.005381565964887117, 0.007656767903852073]\n",
            "[0.0009, 0.0012, 0.0022, 0.0034, 0.0049, 0.0073]\n",
            "1 0 -0.038720768718358514\n",
            "[0.0014997188203040247, 0.012509781190583047, 0.004547080794360528, 0.00894527381564018, 0.015283227078376082, 0.023647094963655926]\n",
            "[0.0014997188203040247, 0.0025097811905830476, 0.004547080794360528, 0.00894527381564018, 0.015283227078376082, 0.023647094963655926]\n",
            "[0.0008998312816414876, 0.004166427828011786, 0.0032266204867494284, 0.004036973089597665, 0.005370560254612314, 0.007647933096877646]\n",
            "[0.0009, 0.0012, 0.0022, 0.0034, 0.0049, 0.0073]\n",
            "1 1 -0.035418772171988216\n",
            "[0.0014997188203040247, 0.012509781190583047, 0.004547080794360528, 0.00894527381564018, 0.015283227078376082, 0.023647094963655926]\n",
            "[0.0014997188203040247, 0.0025097811905830476, 0.004547080794360528, 0.00894527381564018, 0.015283227078376082, 0.023647094963655926]\n",
            "[0.0008998312816414876, 0.004166427828011786, 0.0032266204867494284, 0.004036973089597665, 0.005370560254612314, 0.007647933096877646]\n",
            "[0.0009, 0.0012, 0.0022, 0.0034, 0.0049, 0.0073]\n",
            "1 2 -0.036347379513250566\n",
            "[0.0014997188203040247, 0.012509781190583047, 0.004547080794360528, 0.00894527381564018, 0.015283227078376082, 0.023647094963655926]\n",
            "[0.0014997188203040247, 0.0025097811905830476, 0.004547080794360528, 0.00894527381564018, 0.015283227078376082, 0.023647094963655926]\n",
            "[0.0008998312816414876, 0.004166427828011786, 0.0032266204867494284, 0.004036973089597665, 0.005370560254612314, 0.007647933096877646]\n",
            "[0.0009, 0.0012, 0.0022, 0.0034, 0.0049, 0.0073]\n",
            "1 3 -0.03552642691040234\n",
            "[0.0014997188203040247, 0.012509781190583047, 0.004547080794360528, 0.00894527381564018, 0.015283227078376082, 0.023647094963655926]\n",
            "[0.0014997188203040247, 0.0025097811905830476, 0.004547080794360528, 0.00894527381564018, 0.015283227078376082, 0.023647094963655926]\n",
            "[0.0008998312816414876, 0.004166427828011786, 0.0032266204867494284, 0.004036973089597665, 0.005370560254612314, 0.007647933096877646]\n",
            "[0.0009, 0.0012, 0.0022, 0.0034, 0.0049, 0.0073]\n",
            "1 4 -0.03418283974538769\n",
            "[0.0014997188203040247, 0.012509781190583047, 0.004547080794360528, 0.00894527381564018, 0.015283227078376082, 0.023647094963655926]\n",
            "[0.0014997188203040247, 0.0025097811905830476, 0.004547080794360528, 0.00894527381564018, 0.015283227078376082, 0.023647094963655926]\n",
            "[0.0008998312816414876, 0.004166427828011786, 0.0032266204867494284, 0.004036973089597665, 0.005370560254612314, 0.007647933096877646]\n",
            "[0.0009, 0.0012, 0.0022, 0.0034, 0.0049, 0.0073]\n",
            "1 5 -0.03189586690312235\n",
            "[0.0014997188203040247, 0.012509781190583047, 0.004547080794360528, 0.00894527381564018, 0.015283227078376082, 0.023647094963655926]\n",
            "[0.0014997188203040247, 0.0025097811905830476, 0.004547080794360528, 0.00894527381564018, 0.015283227078376082, 0.023647094963655926]\n",
            "[0.0008998312816414876, 0.004166427828011786, 0.0032266204867494284, 0.004036973089597665, 0.005370560254612314, 0.007647933096877646]\n",
            "[0.0009, 0.0012, 0.0022, 0.0034, 0.0049, 0.0073]\n",
            "2 0 -0.038720768718358514\n",
            "[0.0014997188203040247, 0.0025097811905830476, 0.01454708079436053, 0.00894527381564018, 0.015283227078376082, 0.023647094963655926]\n",
            "[0.0014997188203040247, 0.0025097811905830476, 0.004547080794360528, 0.00894527381564018, 0.015283227078376082, 0.023647094963655926]\n",
            "[0.0008998312816414876, 0.0011998864210369475, 0.006109029766349043, 0.005830313129662712, 0.006693082724607755, 0.008620775445802434]\n",
            "[0.0009, 0.0012, 0.0022, 0.0034, 0.0049, 0.0073]\n",
            "2 1 -0.038385313578963055\n",
            "[0.0014997188203040247, 0.0025097811905830476, 0.01454708079436053, 0.00894527381564018, 0.015283227078376082, 0.023647094963655926]\n",
            "[0.0014997188203040247, 0.0025097811905830476, 0.004547080794360528, 0.00894527381564018, 0.015283227078376082, 0.023647094963655926]\n",
            "[0.0008998312816414876, 0.0011998864210369475, 0.006109029766349043, 0.005830313129662712, 0.006693082724607755, 0.008620775445802434]\n",
            "[0.0009, 0.0012, 0.0022, 0.0034, 0.0049, 0.0073]\n",
            "2 2 -0.033464970233650956\n",
            "[0.0014997188203040247, 0.0025097811905830476, 0.01454708079436053, 0.00894527381564018, 0.015283227078376082, 0.023647094963655926]\n",
            "[0.0014997188203040247, 0.0025097811905830476, 0.004547080794360528, 0.00894527381564018, 0.015283227078376082, 0.023647094963655926]\n",
            "[0.0008998312816414876, 0.0011998864210369475, 0.006109029766349043, 0.005830313129662712, 0.006693082724607755, 0.008620775445802434]\n",
            "[0.0009, 0.0012, 0.0022, 0.0034, 0.0049, 0.0073]\n",
            "2 3 -0.033733086870337284\n",
            "[0.0014997188203040247, 0.0025097811905830476, 0.01454708079436053, 0.00894527381564018, 0.015283227078376082, 0.023647094963655926]\n",
            "[0.0014997188203040247, 0.0025097811905830476, 0.004547080794360528, 0.00894527381564018, 0.015283227078376082, 0.023647094963655926]\n",
            "[0.0008998312816414876, 0.0011998864210369475, 0.006109029766349043, 0.005830313129662712, 0.006693082724607755, 0.008620775445802434]\n",
            "[0.0009, 0.0012, 0.0022, 0.0034, 0.0049, 0.0073]\n",
            "2 4 -0.03286031727539225\n",
            "[0.0014997188203040247, 0.0025097811905830476, 0.01454708079436053, 0.00894527381564018, 0.015283227078376082, 0.023647094963655926]\n",
            "[0.0014997188203040247, 0.0025097811905830476, 0.004547080794360528, 0.00894527381564018, 0.015283227078376082, 0.023647094963655926]\n",
            "[0.0008998312816414876, 0.0011998864210369475, 0.006109029766349043, 0.005830313129662712, 0.006693082724607755, 0.008620775445802434]\n",
            "[0.0009, 0.0012, 0.0022, 0.0034, 0.0049, 0.0073]\n",
            "2 5 -0.030923024554197563\n",
            "[0.0014997188203040247, 0.0025097811905830476, 0.01454708079436053, 0.00894527381564018, 0.015283227078376082, 0.023647094963655926]\n",
            "[0.0014997188203040247, 0.0025097811905830476, 0.004547080794360528, 0.00894527381564018, 0.015283227078376082, 0.023647094963655926]\n",
            "[0.0008998312816414876, 0.0011998864210369475, 0.006109029766349043, 0.005830313129662712, 0.006693082724607755, 0.008620775445802434]\n",
            "[0.0009, 0.0012, 0.0022, 0.0034, 0.0049, 0.0073]\n",
            "3 0 -0.038720768718358514\n",
            "[0.0014997188203040247, 0.0025097811905830476, 0.004547080794360528, 0.01894527381564018, 0.015283227078376082, 0.023647094963655926]\n",
            "[0.0014997188203040247, 0.0025097811905830476, 0.004547080794360528, 0.00894527381564018, 0.015283227078376082, 0.023647094963655926]\n",
            "[0.0008998312816414876, 0.0011998864210369475, 0.0021999280202452108, 0.005651949944113519, 0.006555528645855631, 0.008510131289069729]\n",
            "[0.0009, 0.0012, 0.0022, 0.0034, 0.0049, 0.0073]\n",
            "3 1 -0.038385313578963055\n",
            "[0.0014997188203040247, 0.0025097811905830476, 0.004547080794360528, 0.01894527381564018, 0.015283227078376082, 0.023647094963655926]\n",
            "[0.0014997188203040247, 0.0025097811905830476, 0.004547080794360528, 0.00894527381564018, 0.015283227078376082, 0.023647094963655926]\n",
            "[0.0008998312816414876, 0.0011998864210369475, 0.0021999280202452108, 0.005651949944113519, 0.006555528645855631, 0.008510131289069729]\n",
            "[0.0009, 0.0012, 0.0022, 0.0034, 0.0049, 0.0073]\n",
            "3 2 -0.037374071979754786\n",
            "[0.0014997188203040247, 0.0025097811905830476, 0.004547080794360528, 0.01894527381564018, 0.015283227078376082, 0.023647094963655926]\n",
            "[0.0014997188203040247, 0.0025097811905830476, 0.004547080794360528, 0.00894527381564018, 0.015283227078376082, 0.023647094963655926]\n",
            "[0.0008998312816414876, 0.0011998864210369475, 0.0021999280202452108, 0.005651949944113519, 0.006555528645855631, 0.008510131289069729]\n",
            "[0.0009, 0.0012, 0.0022, 0.0034, 0.0049, 0.0073]\n",
            "3 3 -0.03391145005588648\n",
            "[0.0014997188203040247, 0.0025097811905830476, 0.004547080794360528, 0.01894527381564018, 0.015283227078376082, 0.023647094963655926]\n",
            "[0.0014997188203040247, 0.0025097811905830476, 0.004547080794360528, 0.00894527381564018, 0.015283227078376082, 0.023647094963655926]\n",
            "[0.0008998312816414876, 0.0011998864210369475, 0.0021999280202452108, 0.005651949944113519, 0.006555528645855631, 0.008510131289069729]\n",
            "[0.0009, 0.0012, 0.0022, 0.0034, 0.0049, 0.0073]\n",
            "3 4 -0.03299787135414437\n",
            "[0.0014997188203040247, 0.0025097811905830476, 0.004547080794360528, 0.01894527381564018, 0.015283227078376082, 0.023647094963655926]\n",
            "[0.0014997188203040247, 0.0025097811905830476, 0.004547080794360528, 0.00894527381564018, 0.015283227078376082, 0.023647094963655926]\n",
            "[0.0008998312816414876, 0.0011998864210369475, 0.0021999280202452108, 0.005651949944113519, 0.006555528645855631, 0.008510131289069729]\n",
            "[0.0009, 0.0012, 0.0022, 0.0034, 0.0049, 0.0073]\n",
            "3 5 -0.031033668710930266\n",
            "[0.0014997188203040247, 0.0025097811905830476, 0.004547080794360528, 0.01894527381564018, 0.015283227078376082, 0.023647094963655926]\n",
            "[0.0014997188203040247, 0.0025097811905830476, 0.004547080794360528, 0.00894527381564018, 0.015283227078376082, 0.023647094963655926]\n",
            "[0.0008998312816414876, 0.0011998864210369475, 0.0021999280202452108, 0.005651949944113519, 0.006555528645855631, 0.008510131289069729]\n",
            "[0.0009, 0.0012, 0.0022, 0.0034, 0.0049, 0.0073]\n",
            "4 0 -0.038720768718358514\n",
            "[0.0014997188203040247, 0.0025097811905830476, 0.004547080794360528, 0.00894527381564018, 0.025283227078376082, 0.023647094963655926]\n",
            "[0.0014997188203040247, 0.0025097811905830476, 0.004547080794360528, 0.00894527381564018, 0.015283227078376082, 0.023647094963655926]\n",
            "[0.0008998312816414876, 0.0011998864210369475, 0.0021999280202452108, 0.003399930905761411, 0.006437458973148876, 0.008414362919562608]\n",
            "[0.0009, 0.0012, 0.0022, 0.0034, 0.0049, 0.0073]\n",
            "4 1 -0.038385313578963055\n",
            "[0.0014997188203040247, 0.0025097811905830476, 0.004547080794360528, 0.00894527381564018, 0.025283227078376082, 0.023647094963655926]\n",
            "[0.0014997188203040247, 0.0025097811905830476, 0.004547080794360528, 0.00894527381564018, 0.015283227078376082, 0.023647094963655926]\n",
            "[0.0008998312816414876, 0.0011998864210369475, 0.0021999280202452108, 0.003399930905761411, 0.006437458973148876, 0.008414362919562608]\n",
            "[0.0009, 0.0012, 0.0022, 0.0034, 0.0049, 0.0073]\n",
            "4 2 -0.037374071979754786\n",
            "[0.0014997188203040247, 0.0025097811905830476, 0.004547080794360528, 0.00894527381564018, 0.025283227078376082, 0.023647094963655926]\n",
            "[0.0014997188203040247, 0.0025097811905830476, 0.004547080794360528, 0.00894527381564018, 0.015283227078376082, 0.023647094963655926]\n",
            "[0.0008998312816414876, 0.0011998864210369475, 0.0021999280202452108, 0.003399930905761411, 0.006437458973148876, 0.008414362919562608]\n",
            "[0.0009, 0.0012, 0.0022, 0.0034, 0.0049, 0.0073]\n",
            "4 3 -0.036163469094238586\n",
            "[0.0014997188203040247, 0.0025097811905830476, 0.004547080794360528, 0.00894527381564018, 0.025283227078376082, 0.023647094963655926]\n",
            "[0.0014997188203040247, 0.0025097811905830476, 0.004547080794360528, 0.00894527381564018, 0.015283227078376082, 0.023647094963655926]\n",
            "[0.0008998312816414876, 0.0011998864210369475, 0.0021999280202452108, 0.003399930905761411, 0.006437458973148876, 0.008414362919562608]\n",
            "[0.0009, 0.0012, 0.0022, 0.0034, 0.0049, 0.0073]\n",
            "4 4 -0.03311594102685113\n",
            "[0.0014997188203040247, 0.0025097811905830476, 0.004547080794360528, 0.00894527381564018, 0.025283227078376082, 0.023647094963655926]\n",
            "[0.0014997188203040247, 0.0025097811905830476, 0.004547080794360528, 0.00894527381564018, 0.015283227078376082, 0.023647094963655926]\n",
            "[0.0008998312816414876, 0.0011998864210369475, 0.0021999280202452108, 0.003399930905761411, 0.006437458973148876, 0.008414362919562608]\n",
            "[0.0009, 0.0012, 0.0022, 0.0034, 0.0049, 0.0073]\n",
            "4 5 -0.03112943708043739\n",
            "[0.0014997188203040247, 0.0025097811905830476, 0.004547080794360528, 0.00894527381564018, 0.025283227078376082, 0.023647094963655926]\n",
            "[0.0014997188203040247, 0.0025097811905830476, 0.004547080794360528, 0.00894527381564018, 0.015283227078376082, 0.023647094963655926]\n",
            "[0.0008998312816414876, 0.0011998864210369475, 0.0021999280202452108, 0.003399930905761411, 0.006437458973148876, 0.008414362919562608]\n",
            "[0.0009, 0.0012, 0.0022, 0.0034, 0.0049, 0.0073]\n",
            "5 0 -0.038720768718358514\n",
            "[0.0014997188203040247, 0.0025097811905830476, 0.004547080794360528, 0.00894527381564018, 0.015283227078376082, 0.03364709496365593]\n",
            "[0.0014997188203040247, 0.0025097811905830476, 0.004547080794360528, 0.00894527381564018, 0.015283227078376082, 0.023647094963655926]\n",
            "[0.0008998312816414876, 0.0011998864210369475, 0.0021999280202452108, 0.003399930905761411, 0.004899926309521903, 0.008807622357876575]\n",
            "[0.0009, 0.0012, 0.0022, 0.0034, 0.0049, 0.0073]\n",
            "5 1 -0.038385313578963055\n",
            "[0.0014997188203040247, 0.0025097811905830476, 0.004547080794360528, 0.00894527381564018, 0.015283227078376082, 0.03364709496365593]\n",
            "[0.0014997188203040247, 0.0025097811905830476, 0.004547080794360528, 0.00894527381564018, 0.015283227078376082, 0.023647094963655926]\n",
            "[0.0008998312816414876, 0.0011998864210369475, 0.0021999280202452108, 0.003399930905761411, 0.004899926309521903, 0.008807622357876575]\n",
            "[0.0009, 0.0012, 0.0022, 0.0034, 0.0049, 0.0073]\n",
            "5 2 -0.037374071979754786\n",
            "[0.0014997188203040247, 0.0025097811905830476, 0.004547080794360528, 0.00894527381564018, 0.015283227078376082, 0.03364709496365593]\n",
            "[0.0014997188203040247, 0.0025097811905830476, 0.004547080794360528, 0.00894527381564018, 0.015283227078376082, 0.023647094963655926]\n",
            "[0.0008998312816414876, 0.0011998864210369475, 0.0021999280202452108, 0.003399930905761411, 0.004899926309521903, 0.008807622357876575]\n",
            "[0.0009, 0.0012, 0.0022, 0.0034, 0.0049, 0.0073]\n",
            "5 3 -0.036163469094238586\n",
            "[0.0014997188203040247, 0.0025097811905830476, 0.004547080794360528, 0.00894527381564018, 0.015283227078376082, 0.03364709496365593]\n",
            "[0.0014997188203040247, 0.0025097811905830476, 0.004547080794360528, 0.00894527381564018, 0.015283227078376082, 0.023647094963655926]\n",
            "[0.0008998312816414876, 0.0011998864210369475, 0.0021999280202452108, 0.003399930905761411, 0.004899926309521903, 0.008807622357876575]\n",
            "[0.0009, 0.0012, 0.0022, 0.0034, 0.0049, 0.0073]\n",
            "5 4 -0.0346534736904781\n",
            "[0.0014997188203040247, 0.0025097811905830476, 0.004547080794360528, 0.00894527381564018, 0.015283227078376082, 0.03364709496365593]\n",
            "[0.0014997188203040247, 0.0025097811905830476, 0.004547080794360528, 0.00894527381564018, 0.015283227078376082, 0.023647094963655926]\n",
            "[0.0008998312816414876, 0.0011998864210369475, 0.0021999280202452108, 0.003399930905761411, 0.004899926309521903, 0.008807622357876575]\n",
            "[0.0009, 0.0012, 0.0022, 0.0034, 0.0049, 0.0073]\n",
            "5 5 -0.03073617764212342\n",
            "[0.0014997188203040247, 0.0025097811905830476, 0.004547080794360528, 0.00894527381564018, 0.015283227078376082, 0.03364709496365593]\n",
            "[0.0014997188203040247, 0.0025097811905830476, 0.004547080794360528, 0.00894527381564018, 0.015283227078376082, 0.023647094963655926]\n",
            "[0.0008998312816414876, 0.0011998864210369475, 0.0021999280202452108, 0.003399930905761411, 0.004899926309521903, 0.008807622357876575]\n",
            "[0.0009, 0.0012, 0.0022, 0.0034, 0.0049, 0.0073]\n"
          ]
        }
      ]
    },
    {
      "cell_type": "code",
      "source": [
        "#sensitivity of cva spread wrt lambda by anaytical method\n",
        "dspreadl"
      ],
      "metadata": {
        "colab": {
          "base_uri": "https://localhost:8080/"
        },
        "id": "KCV4QimPrCeE",
        "outputId": "e71639b5-8cd3-4ecf-c393-2246eefc68d8"
      },
      "execution_count": null,
      "outputs": [
        {
          "output_type": "execute_result",
          "data": {
            "text/plain": [
              "array([[0.59999998, 0.30289605, 0.10466058, 0.06497413, 0.04805298,\n",
              "        0.03560083],\n",
              "       [0.        , 0.29702816, 0.10254577, 0.06359617, 0.04697366,\n",
              "        0.0347297 ],\n",
              "       [0.        , 0.        , 0.39225172, 0.24262661, 0.17861921,\n",
              "        0.13135886],\n",
              "       [0.        , 0.        , 0.        , 0.2265914 , 0.16588113,\n",
              "        0.1208781 ],\n",
              "       [0.        , 0.        , 0.        , 0.        , 0.15488325,\n",
              "        0.11175985],\n",
              "       [0.        , 0.        , 0.        , 0.        , 0.        ,\n",
              "        0.15242736]])"
            ]
          },
          "metadata": {},
          "execution_count": 56
        }
      ]
    },
    {
      "cell_type": "code",
      "source": [
        "#taking inverse of dspreadl\n",
        "invj0 = np.linalg.inv(dspreadl)"
      ],
      "metadata": {
        "id": "Vza7AYVgsZdc"
      },
      "execution_count": null,
      "outputs": []
    },
    {
      "cell_type": "code",
      "source": [
        "#checking the accuracy of the inverse\n",
        "np.matmul(spreadlambda0,invj0)"
      ],
      "metadata": {
        "colab": {
          "base_uri": "https://localhost:8080/"
        },
        "id": "zCPny7rV9sYh",
        "outputId": "a43d7d72-6d5d-4b95-98b4-237241bf9883"
      },
      "execution_count": null,
      "outputs": [
        {
          "output_type": "execute_result",
          "data": {
            "text/plain": [
              "array([[ 1.00000000e+00, -8.65100264e-17,  1.14952360e-18,\n",
              "         2.01047052e-17,  6.33945196e-18, -1.39528448e-18],\n",
              "       [-1.72379491e-21,  1.00000000e+00, -3.97720330e-17,\n",
              "        -1.88502412e-17,  1.61527487e-17, -2.30018856e-17],\n",
              "       [ 1.75365910e-21,  1.51672733e-21,  1.00000000e+00,\n",
              "         9.15693976e-17, -4.40518686e-17,  7.43514282e-17],\n",
              "       [-3.44400591e-21, -1.30862672e-21,  1.18481684e-21,\n",
              "         1.00000000e+00,  8.24139255e-18,  2.38095342e-17],\n",
              "       [-6.82009819e-21, -2.36840535e-21,  1.38657182e-21,\n",
              "        -1.16957813e-21,  1.00000000e+00,  1.39202538e-17],\n",
              "       [-1.61681548e-21, -8.81934341e-22,  1.51374240e-21,\n",
              "         1.78002906e-22,  3.02235793e-21,  1.00000000e+00]])"
            ]
          },
          "metadata": {},
          "execution_count": 342
        }
      ]
    },
    {
      "cell_type": "code",
      "source": [
        "cvaspread0 * 0.0001"
      ],
      "metadata": {
        "colab": {
          "base_uri": "https://localhost:8080/"
        },
        "id": "xUHano3-tb9D",
        "outputId": "762ec0d7-0b88-44bc-939c-3a2689128356"
      },
      "execution_count": null,
      "outputs": [
        {
          "output_type": "execute_result",
          "data": {
            "text/plain": [
              "array([[ 1614.86574776],\n",
              "       [ 3541.87064323],\n",
              "       [ 8411.05650438],\n",
              "       [ 5075.5829076 ],\n",
              "       [21293.8755345 ],\n",
              "       [ 5674.41655017]])"
            ]
          },
          "metadata": {},
          "execution_count": 59
        }
      ]
    },
    {
      "cell_type": "code",
      "source": [
        "#dot product between inverse of spread wrt lambda sensitivity matrix and analytical sensitivity of cva wrt to lambda\n",
        "np.dot(invj0, dcval)*0.0001"
      ],
      "metadata": {
        "colab": {
          "base_uri": "https://localhost:8080/"
        },
        "id": "94zjfHK0sfZg",
        "outputId": "66b00fa3-ee13-47f7-cf1d-3221bb62a240"
      },
      "execution_count": null,
      "outputs": [
        {
          "output_type": "execute_result",
          "data": {
            "text/plain": [
              "array([ 1580.31599177,  3545.26728919,  8466.14630033,  5080.76594217,\n",
              "       21439.59319323,  5535.72050816])"
            ]
          },
          "metadata": {},
          "execution_count": 61
        }
      ]
    },
    {
      "cell_type": "code",
      "source": [
        "#dot product between inverse of spread wrt lambda sensitivity matrix and finite difference sensitivity of cva wrt to lambda\n",
        "np.dot(invj0, cvalambda0) * 0.0001"
      ],
      "metadata": {
        "colab": {
          "base_uri": "https://localhost:8080/"
        },
        "id": "avVt3OQ8tnwx",
        "outputId": "1acff058-fd12-471a-8497-006cdc0f94e5"
      },
      "execution_count": null,
      "outputs": [
        {
          "output_type": "execute_result",
          "data": {
            "text/plain": [
              "array([[ 1616.5683663 ],\n",
              "       [ 3587.92383112],\n",
              "       [ 8343.37651679],\n",
              "       [ 4966.32317507],\n",
              "       [21354.68408434],\n",
              "       [ 5557.04167815]])"
            ]
          },
          "metadata": {},
          "execution_count": 347
        }
      ]
    },
    {
      "cell_type": "markdown",
      "source": [
        "# Graphing"
      ],
      "metadata": {
        "id": "UekK7UzzILYP"
      }
    },
    {
      "cell_type": "code",
      "source": [
        "spreaddate"
      ],
      "metadata": {
        "colab": {
          "base_uri": "https://localhost:8080/"
        },
        "id": "sjVJkWgk2amM",
        "outputId": "c4f0c2bd-b530-4757-c179-7b7f15be6553"
      },
      "execution_count": null,
      "outputs": [
        {
          "output_type": "execute_result",
          "data": {
            "text/plain": [
              "[0.5, 1, 3, 5, 7, 10]"
            ]
          },
          "metadata": {},
          "execution_count": 10
        }
      ]
    },
    {
      "cell_type": "code",
      "source": [
        "tb = np.arange(0,10,0.001)\n",
        "gg=[]\n",
        "for i in range(len(tb)):\n",
        "  # print(tb[i],np.min(np.where(spreaddate>=tb[i])))\n",
        "  gg.append(lambda2vallist[np.min(np.where(spreaddate>=tb[i]))])\n"
      ],
      "metadata": {
        "id": "c2s4ptzK1A10"
      },
      "execution_count": null,
      "outputs": []
    },
    {
      "cell_type": "code",
      "execution_count": null,
      "metadata": {
        "id": "Dp6X0cQZ_bAd",
        "colab": {
          "base_uri": "https://localhost:8080/",
          "height": 466
        },
        "outputId": "cae0d0ab-c6ef-459c-eb36-46a4f266b42f"
      },
      "outputs": [
        {
          "output_type": "execute_result",
          "data": {
            "text/plain": [
              "[<matplotlib.lines.Line2D at 0x7914f7f33340>]"
            ]
          },
          "metadata": {},
          "execution_count": 13
        },
        {
          "output_type": "display_data",
          "data": {
            "text/plain": [
              "<Figure size 640x480 with 1 Axes>"
            ],
            "image/png": "[encoded data removed]"
          },
          "metadata": {}
        }
      ],
      "source": [
        "#hazard rate graph over the lifetime of the interest rate swap\n",
        "plt.figure(2)\n",
        "plt.grid()\n",
        "plt.xlabel(\"time\")\n",
        "plt.ylabel(\"hazard rates\")\n",
        "# eSM_P = lambda t: S_0 * np.exp(mu * t) / M(t)\n",
        "# plt.plot(time, eSM_P(time), 'r--')\n",
        "plt.plot(tb, gg, 'blue')"
      ]
    }
  ],
  "metadata": {
    "colab": {
      "provenance": []
    },
    "kernelspec": {
      "display_name": "Python 3 (ipykernel)",
      "language": "python",
      "name": "python3"
    },
    "language_info": {
      "codemirror_mode": {
        "name": "ipython",
        "version": 3
      },
      "file_extension": ".py",
      "mimetype": "text/x-python",
      "name": "python",
      "nbconvert_exporter": "python",
      "pygments_lexer": "ipython3",
      "version": "3.11.5"
    }
  },
  "nbformat": 4,
  "nbformat_minor": 0
}
